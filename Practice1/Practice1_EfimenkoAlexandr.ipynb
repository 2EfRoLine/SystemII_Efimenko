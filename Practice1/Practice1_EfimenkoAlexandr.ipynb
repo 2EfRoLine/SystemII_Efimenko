{
 "cells": [
  {
   "cell_type": "markdown",
   "id": "b6a5e908",
   "metadata": {},
   "source": [
    "# Практическая работа №1"
   ]
  },
  {
   "cell_type": "markdown",
   "id": "dd47b689",
   "metadata": {},
   "source": [
    "## Тема: \"Основные возможности языка Python\""
   ]
  },
  {
   "cell_type": "markdown",
   "id": "524ff0cb",
   "metadata": {},
   "source": [
    "### Выполнил студент: Ефименко Александр ПКТб-21-1"
   ]
  },
  {
   "cell_type": "markdown",
   "id": "4f4499a5",
   "metadata": {},
   "source": [
    "#### Вариант 6"
   ]
  },
  {
   "cell_type": "markdown",
   "id": "240a8dd4",
   "metadata": {},
   "source": [
    "#### Задание 1. Расчеты арифметических выражений\n",
    "УСЛОВИЕ: Написать программу на Python в Notebook Jupiter, которая запрашивает данные с клавиатуры и вычисляет арифметическое выражение по вариантам. Произвести проверку выражения в Excel. "
   ]
  },
  {
   "cell_type": "markdown",
   "id": "2d77181f",
   "metadata": {},
   "source": [
    "$$z=6y-(\\frac{\\frac{a+3}{x}}{\\frac{2-xa}{xy}})+\\frac{2+3a}{10x+3a}+4y$$"
   ]
  },
  {
   "cell_type": "code",
   "execution_count": 6,
   "id": "8e47f3a5",
   "metadata": {},
   "outputs": [
    {
     "name": "stdout",
     "output_type": "stream",
     "text": [
      "Введите переменную a=1\n",
      "Введите переменную x=1\n",
      "Введите переменную y=1\n",
      "z= 6.384615384615385\n"
     ]
    }
   ],
   "source": [
    "a=float(input(\"Введите переменную a=\"))\n",
    "x=float(input(\"Введите переменную x=\"))\n",
    "y=float(input(\"Введите переменную y=\"))\n",
    "z=6*y-((a+3)/x)/((2-x*a)/(x*y))+(2+3*a)/(10*x+3*a)+4*y\n",
    "print(\"z=\",z)"
   ]
  },
  {
   "cell_type": "markdown",
   "id": "37682c6b",
   "metadata": {},
   "source": [
    "#### Задание 2. Расчеты математических выражений\n",
    "УСЛОВИЕ: Написать программу на Python в Notebook Jupiter, которая запрашивает данные с клавиатуры и вычисляет математическое выражение по вариантам. Произвести проверку выражения в Excel. "
   ]
  },
  {
   "cell_type": "markdown",
   "id": "ec3bf3cb",
   "metadata": {},
   "source": [
    "$$z=(1+\\frac{1}{x^2})^x-12x^2y$$"
   ]
  },
  {
   "cell_type": "code",
   "execution_count": 5,
   "id": "57760573",
   "metadata": {
    "scrolled": true
   },
   "outputs": [
    {
     "name": "stdout",
     "output_type": "stream",
     "text": [
      "Введите переменную x=1\n",
      "Введите переменную y=1\n",
      "z= -10.0\n"
     ]
    }
   ],
   "source": [
    "x=float(input(\"Введите переменную x=\"))\n",
    "y=float(input(\"Введите переменную y=\"))\n",
    "z=(1+1/x**2)**x-12*x**2*y\n",
    "print(\"z=\",z)"
   ]
  },
  {
   "cell_type": "markdown",
   "id": "f0868eea",
   "metadata": {},
   "source": [
    "#### Задание 3. Логические вычисления\n",
    "УСЛОВИЕ: Написать программу на Python в Notebook Jupiter, которая запрашивает целые значения с клавиатуры и вычисляет находится ли точка с координатами X,Y в заштрихованной области по вариантам. "
   ]
  },
  {
   "attachments": {
    "image.png": {
     "image/png": "[encoded data removed]"
    }
   },
   "cell_type": "markdown",
   "id": "acd54fdd",
   "metadata": {},
   "source": [
    "![image.png](attachment:image.png)"
   ]
  },
  {
   "cell_type": "code",
   "execution_count": 10,
   "id": "2f10e08d",
   "metadata": {},
   "outputs": [
    {
     "name": "stdout",
     "output_type": "stream",
     "text": [
      "Введите координату x=5\n",
      "Введите координату y=11\n",
      "Точка находится в заштрихованной области\n"
     ]
    }
   ],
   "source": [
    "x=int(input(\"Введите координату x=\"))\n",
    "y=int(input(\"Введите координату y=\"))\n",
    "if y==3 and (x>=3 and x<=5 or x==9):\n",
    "    print(\"Точка находится в заштрихованной области\")\n",
    "elif y==4 and (x>=3 and x<=5 or x==9):\n",
    "    print(\"Точка находится в заштрихованной области\")\n",
    "elif y==5 and (x>=6 and x<=9 or x==11 or x==12):\n",
    "    print(\"Точка находится в заштрихованной области\")\n",
    "elif y==6 and (x>=6 and x<=9 or x==11 or x==12):\n",
    "    print(\"Точка находится в заштрихованной области\")\n",
    "elif y==7 and (x>=2 and x<=9 or x==11 or x==12):\n",
    "    print(\"Точка находится в заштрихованной области\")\n",
    "elif y==8 and (x>=6 and x<=13):\n",
    "    print(\"Точка находится в заштрихованной области\")\n",
    "elif y==9 and (x>=6 and x<=12):\n",
    "    print(\"Точка находится в заштрихованной области\")\n",
    "elif y==10 and (x>=6 and x<=12):\n",
    "    print(\"Точка находится в заштрихованной области\")\n",
    "elif y==11 and (x>=3 and x<=7 or x==11 or x==12):\n",
    "    print(\"Точка находится в заштрихованной области\")\n",
    "elif y==12 and x==7:\n",
    "    print(\"Точка находится в заштрихованной области\")\n",
    "else:\n",
    "    print(\"Точка не находится в заштрихованной области\")"
   ]
  },
  {
   "cell_type": "markdown",
   "id": "253970ae",
   "metadata": {},
   "source": [
    "#### Задание 4. Логические вычисления\n",
    "УСЛОВИЕ: Написать программу на Python в Notebook Jupiter, которая запрашивает вещественные значения с клавиатуры и вычисляет находится ли точка с координатами X,Y в заштрихованной области ограниченная линиями по вариантам. "
   ]
  },
  {
   "attachments": {
    "image.png": {
     "image/png": "[encoded data removed]"
    }
   },
   "cell_type": "markdown",
   "id": "5f54f5ac",
   "metadata": {},
   "source": [
    "![image.png](attachment:image.png)"
   ]
  },
  {
   "cell_type": "code",
   "execution_count": 22,
   "id": "3e37ac90",
   "metadata": {},
   "outputs": [
    {
     "name": "stdout",
     "output_type": "stream",
     "text": [
      "Введите координату x=1.1\n",
      "Введите координату y=0.2\n",
      "Точка находится в заштрихованной области\n"
     ]
    }
   ],
   "source": [
    "x=float(input(\"Введите координату x=\"))\n",
    "y=float(input(\"Введите координату y=\"))\n",
    "if y>0 and x**2+y**2>1 and x**2+y**2<2:\n",
    "    print(\"Точка находится в заштрихованной области\")\n",
    "else:\n",
    "    print(\"Точка не находится в заштрихованной области\")"
   ]
  },
  {
   "cell_type": "markdown",
   "id": "b659c07b",
   "metadata": {},
   "source": [
    "#### Задание 5. Вычисление циклических процессов\n",
    "УСЛОВИЕ: Написать программу на Python в Notebook Jupiter, которая выводит таблицу значений функции (произвести табулирование) f(x) на заданном диапазоне X1, X2 и с заданным шагом S. Переменные X1, X2, S – вещественные. Произвести проверку деления на ноль. "
   ]
  },
  {
   "cell_type": "markdown",
   "id": "ed422765",
   "metadata": {},
   "source": [
    "$f(x)=\\frac{1+sin\\sqrt{x^2+1}}{cos(12x-4)}$"
   ]
  },
  {
   "cell_type": "code",
   "execution_count": 12,
   "id": "7aee70f5",
   "metadata": {
    "scrolled": true
   },
   "outputs": [
    {
     "name": "stdout",
     "output_type": "stream",
     "text": [
      "Введите начальное значение X1=1\n",
      "Введите конечное значение X2=1\n",
      "Введите шаг S=1\n",
      "*******************\n",
      "Результат\n",
      "+-----------------+\n",
      "|   X  |    f(x)  |\n",
      "+-----------------+\n",
      "|  1.00|    -13.66|\n",
      "+-----------------+\n"
     ]
    }
   ],
   "source": [
    "import math\n",
    "x1=float(input(\"Введите начальное значение X1=\"))\n",
    "x2=float(input(\"Введите конечное значение X2=\"))\n",
    "s=float(input(\"Введите шаг S=\"))\n",
    "print(\"*******************\")\n",
    "print(\"Результат\")\n",
    "print(\"+-----------------+\")\n",
    "print(\"|   X  |    f(x)  |\")\n",
    "print(\"+-----------------+\")\n",
    "while x1<=x2:\n",
    "    y=(1+math.sin(math.sqrt(x1**2+1)))/(math.cos(12*x1-4))\n",
    "    print(\"|{:6.2f}|{:10.2f}|\".format(x1,y))\n",
    "    x1+=s\n",
    "print(\"+-----------------+\")"
   ]
  },
  {
   "cell_type": "markdown",
   "id": "7116b6a2",
   "metadata": {},
   "source": [
    "#### Задание 6. Списки (одномерные массивы) в Python \n",
    "УСЛОВИЕ: Дан целочисленный одномерный массив на N элементов, заполненный случайными числами в заданном диапазоне (от n1 до n2)          с чередованием случайного отрицательного числа.\n",
    "         Найти произведение нечетных элементов массива с номерами от K до L включительно.\n",
    "         Произвести проверку на корректность ввода интервальных значений (n1<n2, K<L).\n"
   ]
  },
  {
   "cell_type": "code",
   "execution_count": 5,
   "id": "d15ce825",
   "metadata": {},
   "outputs": [
    {
     "name": "stdout",
     "output_type": "stream",
     "text": [
      "Введите количество элементов в массиве: 5\n",
      "Введите начало диапазона: 1\n",
      "Введите конец диапазона: 4\n",
      "Введите начальный номер элемента массива для расчета: 2\n",
      "Введите конечный номер элемента массива для расчета: 3\n",
      "Сгенерированный массив\n",
      "**********************\n",
      "0 ) 1\n",
      "1 ) -3\n",
      "2 ) 1\n",
      "3 ) -3\n",
      "4 ) 1\n",
      "**********************\n",
      "Результат\n",
      "**********************\n",
      "Произведение нечетных элементов с номерами от 2 до 3  в массиве равно -3\n"
     ]
    }
   ],
   "source": [
    "from random import randint\n",
    "N=int(input(\"Введите количество элементов в массиве: \"))\n",
    "n1=int(input(\"Введите начало диапазона: \"))\n",
    "n2=int(input(\"Введите конец диапазона: \"))\n",
    "if n1>n2:\n",
    "    print(\"Неверные данные, повторите запуск программы еще раз!\")\n",
    "    pass\n",
    "else:\n",
    "    k=int(input(\"Введите начальный номер элемента массива для расчета: \"))\n",
    "    l=int(input(\"Введите конечный номер элемента массива для расчета: \"))\n",
    "    if k>l:\n",
    "        print(\"Неверные данные, повторите запуск программы еще раз!\")\n",
    "        pass \n",
    "    else:\n",
    "        print(\"Сгенерированный массив\")\n",
    "        print(\"**********************\")\n",
    "        pr=1\n",
    "        for i in range(0, N):\n",
    "            if i%2==1:\n",
    "                items=randint(n1,n2)*(-1)\n",
    "            else:\n",
    "                items=randint(n1,n2)\n",
    "            print(i,\")\",items)\n",
    "            if i>=k and i<=l and i%2==1:\n",
    "                pr*=items\n",
    "        print(\"**********************\")\n",
    "        print(\"Результат\")\n",
    "        print(\"**********************\")\n",
    "        print(f\"Произведение нечетных элементов с номерами от {k} до {l}  в массиве равно {pr}\")"
   ]
  },
  {
   "cell_type": "markdown",
   "id": "b2756617",
   "metadata": {},
   "source": [
    "#### Задание 7. Двумерные массивы (матрицы) в Python \n",
    "УСЛОВИЕ: Дан целочисленный двумерный массив N на M элементов, заполненный случайными числами в заданном диапазоне (от n1 до n2) с чередованием случайного отрицательного числа в строках.\n",
    "Найти произведение нечётных элементов массива с номерами от K до L включительно в заданном столбце С.\n",
    "Произвести проверку на корректность ввода интервальных значений (n1<n2, K<L, С и т.д.)."
   ]
  },
  {
   "cell_type": "code",
   "execution_count": 3,
   "id": "ce3a822e",
   "metadata": {},
   "outputs": [
    {
     "name": "stdout",
     "output_type": "stream",
     "text": [
      "Введите количество строк в массиве: 6\n",
      "Введите количество столбцов в массиве:6\n",
      "Введите номер столбца для расчета:4\n",
      "Введите начало диапазона: 1\n",
      "Введите конец диапазона: 6\n",
      "Введите начальный номер элемента массива для расчета: 2\n",
      "Введите конечный номер элемента массива для расчета: 5\n",
      "Сгенерированный двумерный массив\n",
      "**********************\n",
      "1 -5 6 -6 2 -1 \n",
      "\n",
      "1 -4 5 -4 6 -3 \n",
      "\n",
      "1 -4 1 -2 6 -1 \n",
      "\n",
      "2 -2 2 -3 5 -3 \n",
      "\n",
      "3 -5 2 -1 3 -2 \n",
      "\n",
      "1 -6 3 -2 3 -6 \n",
      "\n",
      "**********************\n",
      "Результат\n",
      "Произведение нечентых элементов массива в столбце 4 с номерами от 2 до 5 равно 15\n"
     ]
    }
   ],
   "source": [
    "from random import randint\n",
    "N=int(input(\"Введите количество строк в массиве: \"))\n",
    "M=int(input(\"Введите количество столбцов в массиве:\"))\n",
    "C=int(input(\"Введите номер столбца для расчета:\"))\n",
    "\n",
    "n1=int(input(\"Введите начало диапазона: \"))\n",
    "n2=int(input(\"Введите конец диапазона: \"))\n",
    "if n1>n2:\n",
    "    print(\"Неверные данные, повторите запуск программы еще раз!\")\n",
    "    pass\n",
    "else:\n",
    "    k=int(input(\"Введите начальный номер элемента массива для расчета: \"))\n",
    "    l=int(input(\"Введите конечный номер элемента массива для расчета: \"))\n",
    "    if k>l:\n",
    "        print(\"Неверные данные, повторите запуск программы еще раз!\")\n",
    "        pass\n",
    "    else:\n",
    "        print(\"Сгенерированный двумерный массив\")\n",
    "        print(\"**********************\")\n",
    "        pr=1\n",
    "        for i in range(0,N): \n",
    "            for j in range(0,M):\n",
    "                if j%2==1:\n",
    "                    item=randint(n1,n2)*(-1)\n",
    "                else:\n",
    "                    item=randint(n1,n2)\n",
    "                if C==j and i>=k and i<=l and i%2==1:\n",
    "                    pr*=item\n",
    "                print(item, end=\" \")\n",
    "            print(\"\\n\")\n",
    "        print(\"**********************\")\n",
    "        print(\"Результат\")\n",
    "        print(\"**********************\")\n",
    "        print(f\"Произведение нечентых элементов массива в столбце {C} с номерами от {k} до {l} равно {pr}\")"
   ]
  },
  {
   "cell_type": "code",
   "execution_count": null,
   "id": "af52e1cc",
   "metadata": {},
   "outputs": [],
   "source": []
  }
 ],
 "metadata": {
  "kernelspec": {
   "display_name": "Python 3 (ipykernel)",
   "language": "python",
   "name": "python3"
  },
  "language_info": {
   "codemirror_mode": {
    "name": "ipython",
    "version": 3
   },
   "file_extension": ".py",
   "mimetype": "text/x-python",
   "name": "python",
   "nbconvert_exporter": "python",
   "pygments_lexer": "ipython3",
   "version": "3.11.5"
  }
 },
 "nbformat": 4,
 "nbformat_minor": 5
}
